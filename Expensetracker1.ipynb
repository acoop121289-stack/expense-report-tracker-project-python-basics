{
  "nbformat": 4,
  "nbformat_minor": 0,
  "metadata": {
    "colab": {
      "provenance": [],
      "authorship_tag": "ABX9TyMN54H6r7ioMRtSjPOb+vz0",
      "include_colab_link": true
    },
    "kernelspec": {
      "name": "python3",
      "display_name": "Python 3"
    },
    "language_info": {
      "name": "python"
    }
  },
  "cells": [
    {
      "cell_type": "markdown",
      "metadata": {
        "id": "view-in-github",
        "colab_type": "text"
      },
      "source": [
        "<a href=\"https://colab.research.google.com/github/acoop121289-stack/expense-report-tracker-project-python-basics/blob/main/Expensetracker1.ipynb\" target=\"_parent\"><img src=\"https://colab.research.google.com/assets/colab-badge.svg\" alt=\"Open In Colab\"/></a>"
      ]
    },
    {
      "cell_type": "code",
      "metadata": {
        "id": "6b69719d"
      },
      "source": [
        "import pandas as pd\n",
        "\n",
        "# Initialize an empty list to store expenses\n",
        "expenses = []\n",
        "\n",
        "def add_expense(date, category, amount, description):\n",
        "  \"\"\"Adds a new expense to the tracker.\"\"\"\n",
        "  expenses.append({\n",
        "      'Date': date,\n",
        "      'Category': category,\n",
        "      'Amount': amount,\n",
        "      'Description': description\n",
        "  })\n",
        "  print(\"Expense added successfully!\")"
      ],
      "execution_count": 23,
      "outputs": []
    },
    {
      "cell_type": "code",
      "metadata": {
        "id": "7b66f756"
      },
      "source": [
        "def view_expenses():\n",
        "  \"\"\"Displays all recorded expenses, validating data before display.\"\"\"\n",
        "  if not expenses:\n",
        "    print(\"No expenses recorded yet.\")\n",
        "  else:\n",
        "    print(\"--- Expenses ---\")\n",
        "    for i, expense in enumerate(expenses):\n",
        "      is_incomplete = False\n",
        "      if not all(key in expense and expense[key] for key in ['Date', 'Category', 'Amount', 'Description']):\n",
        "          is_incomplete = True\n",
        "\n",
        "      if is_incomplete:\n",
        "          print(f\"Entry {i+1}: Incomplete details.\")\n",
        "      else:\n",
        "          print(f\"Entry {i+1}: Date: {expense['Date']}, Category: {expense['Category']}, Amount: {expense['Amount']}, Description: {expense['Description']}\")\n",
        "    print(\"----------------\")"
      ],
      "execution_count": 24,
      "outputs": []
    },
    {
      "cell_type": "code",
      "metadata": {
        "colab": {
          "base_uri": "https://localhost:8080/"
        },
        "id": "bcc27648",
        "outputId": "ead3530f-d78a-4576-841b-f899c4c5d321"
      },
      "source": [
        "add_expense(date='2024-09-18', category='food', amount=15.50, description='lunch with friends')"
      ],
      "execution_count": 25,
      "outputs": [
        {
          "output_type": "stream",
          "name": "stdout",
          "text": [
            "Expense added successfully!\n"
          ]
        }
      ]
    },
    {
      "cell_type": "code",
      "metadata": {
        "id": "fc3ff059"
      },
      "source": [
        "def display_budget_vs_expenses():\n",
        "  \"\"\"Displays the total monthly budget and total expenses.\"\"\"\n",
        "  monthly_budget = get_monthly_budget() # Call the function to get the budget\n",
        "  total_expenses = calculate_total_expenses() # Call the function to calculate total expenses\n",
        "\n",
        "  print(f\"\\nTotal Monthly Budget: ${monthly_budget:.2f}\")\n",
        "  print(f\"Total Expenses Recorded: ${total_expenses:.2f}\")\n",
        "\n",
        "  remaining_budget = monthly_budget - total_expenses\n",
        "  print(f\"Remaining Budget: ${remaining_budget:.2f}\")\n",
        "\n",
        "  if remaining_budget < 0:\n",
        "    print(\"You are over budget!\")\n",
        "  elif remaining_budget == 0:\n",
        "    print(\"You have used your entire budget.\")\n",
        "  else:\n",
        "    print(\"You are within your budget.\")"
      ],
      "execution_count": 26,
      "outputs": []
    },
    {
      "cell_type": "code",
      "metadata": {
        "colab": {
          "base_uri": "https://localhost:8080/"
        },
        "id": "01d7aad9",
        "outputId": "ac1eeaee-ed46-48df-b7c9-b001bd069005"
      },
      "source": [
        "def main():\n",
        "  \"\"\"Main function to run the expense tracker.\"\"\"\n",
        "  print(\"Welcome to your personal expense tracker!\")\n",
        "\n",
        "  while True:\n",
        "    print(\"\\nChoose an action:\")\n",
        "    print(\"1. Add new expense\")\n",
        "    print(\"2. View all expenses\")\n",
        "    print(\"3. Display budget vs expenses\")\n",
        "    print(\"4. Calculate total expenses (overall)\")\n",
        "    print(\"5. Calculate total expenses by category\")\n",
        "    print(\"6. Save expenses to CSV\") # Added option 6\n",
        "    print(\"7. Exit\") # Changed exit to option 7\n",
        "\n",
        "    choice = input(\"Enter your choice: \")\n",
        "\n",
        "    if choice == '1':\n",
        "      date = input(\"Enter date (YYYY-MM-DD): \")\n",
        "      category = input(\"Enter category (food or travel): \")\n",
        "      amount = float(input(\"Enter amount: \"))\n",
        "      description = input(\"Enter description: \")\n",
        "      add_expense(date, category, amount, description)\n",
        "    elif choice == '2':\n",
        "      view_expenses()\n",
        "    elif choice == '3':\n",
        "      display_budget_vs_expenses()\n",
        "    elif choice == '4':\n",
        "      total = calculate_total_expenses()\n",
        "      print(f\"\\nTotal expenses recorded: ${total:.2f}\")\n",
        "    elif choice == '5':\n",
        "      category = input(\"Enter category to calculate total for: \")\n",
        "      category_total = sum(expense['Amount'] for expense in expenses if 'Category' in expense and expense['Category'].lower() == category.lower() and 'Amount' in expense and isinstance(expense['Amount'], (int, float)))\n",
        "      print(f\"\\nTotal expenses for '{category}': ${category_total:.2f}\")\n",
        "    elif choice == '6': # Added case for saving expenses\n",
        "        filename = input(\"Enter filename to save to (e.g., expenses.csv): \")\n",
        "        save_expenses_to_csv(filename)\n",
        "    elif choice == '7': # Updated exit option\n",
        "      print(\"Exiting expense tracker. Goodbye!\")\n",
        "      break\n",
        "    else:\n",
        "      print(\"Invalid choice. Please try again.\")\n",
        "\n",
        "if __name__ == \"__main__\":\n",
        "  main()"
      ],
      "execution_count": 27,
      "outputs": [
        {
          "output_type": "stream",
          "name": "stdout",
          "text": [
            "Welcome to your personal expense tracker!\n",
            "\n",
            "Choose an action:\n",
            "1. Add new expense\n",
            "2. View all expenses\n",
            "3. Display budget vs expenses\n",
            "4. Calculate total expenses (overall)\n",
            "5. Calculate total expenses by category\n",
            "6. Save expenses to CSV\n",
            "7. Exit\n",
            "Enter your choice: 3\n",
            "\n",
            "Total Monthly Budget: $2000.00\n",
            "Total Expenses Recorded: $15.50\n",
            "Remaining Budget: $1984.50\n",
            "You are within your budget.\n",
            "\n",
            "Choose an action:\n",
            "1. Add new expense\n",
            "2. View all expenses\n",
            "3. Display budget vs expenses\n",
            "4. Calculate total expenses (overall)\n",
            "5. Calculate total expenses by category\n",
            "6. Save expenses to CSV\n",
            "7. Exit\n",
            "Enter your choice: 4\n",
            "\n",
            "Total expenses recorded: $15.50\n",
            "\n",
            "Choose an action:\n",
            "1. Add new expense\n",
            "2. View all expenses\n",
            "3. Display budget vs expenses\n",
            "4. Calculate total expenses (overall)\n",
            "5. Calculate total expenses by category\n",
            "6. Save expenses to CSV\n",
            "7. Exit\n",
            "Enter your choice: 5\n",
            "Enter category to calculate total for: food\n",
            "\n",
            "Total expenses for 'food': $15.50\n",
            "\n",
            "Choose an action:\n",
            "1. Add new expense\n",
            "2. View all expenses\n",
            "3. Display budget vs expenses\n",
            "4. Calculate total expenses (overall)\n",
            "5. Calculate total expenses by category\n",
            "6. Save expenses to CSV\n",
            "7. Exit\n",
            "Enter your choice: 6\n",
            "Enter filename to save to (e.g., expenses.csv): lunch expenses.csv\n",
            "Expenses saved to lunch expenses.csv\n",
            "\n",
            "Choose an action:\n",
            "1. Add new expense\n",
            "2. View all expenses\n",
            "3. Display budget vs expenses\n",
            "4. Calculate total expenses (overall)\n",
            "5. Calculate total expenses by category\n",
            "6. Save expenses to CSV\n",
            "7. Exit\n",
            "Enter your choice: 7\n",
            "Exiting expense tracker. Goodbye!\n"
          ]
        }
      ]
    },
    {
      "cell_type": "code",
      "metadata": {
        "id": "f9d318c7"
      },
      "source": [
        "import csv\n",
        "\n",
        "def save_expenses_to_csv(filename='expenses.csv'):\n",
        "  \"\"\"Saves all recorded expenses to a CSV file.\"\"\"\n",
        "  if not expenses:\n",
        "    print(\"No expenses to save.\")\n",
        "    return\n",
        "\n",
        "  keys = expenses[0].keys()\n",
        "  with open(filename, 'w', newline='') as output_file:\n",
        "    dict_writer = csv.DictWriter(output_file, fieldnames=keys)\n",
        "    dict_writer.writeheader()\n",
        "    dict_writer.writerows(expenses)\n",
        "\n",
        "  print(f\"Expenses saved to {filename}\")"
      ],
      "execution_count": 28,
      "outputs": []
    },
    {
      "cell_type": "code",
      "metadata": {
        "id": "63cfd859"
      },
      "source": [
        "import csv\n",
        "\n",
        "def load_expenses_from_csv(filename='expenses.csv'):\n",
        "  \"\"\"Loads expenses from a CSV file and appends them to the existing expenses list.\"\"\"\n",
        "  try:\n",
        "    with open(filename, 'r') as input_file:\n",
        "      reader = csv.DictReader(input_file)\n",
        "      for row in reader:\n",
        "        # Convert amount to float, handling potential errors\n",
        "        try:\n",
        "          row['Amount'] = float(row['Amount'])\n",
        "        except ValueError:\n",
        "          print(f\"Skipping row with invalid amount: {row}\")\n",
        "          continue\n",
        "        expenses.append(row)\n",
        "    print(f\"Expenses loaded from {filename}\")\n",
        "  except FileNotFoundError:\n",
        "    print(f\"Error: File '{filename}' not found.\")\n",
        "  except Exception as e:\n",
        "    print(f\"An error occurred while loading expenses: {e}\")"
      ],
      "execution_count": 29,
      "outputs": []
    },
    {
      "cell_type": "code",
      "metadata": {
        "colab": {
          "base_uri": "https://localhost:8080/"
        },
        "id": "e5993418",
        "outputId": "6b91ef34-65f4-4983-afe3-87e3bcc96252"
      },
      "source": [
        "# Save the expenses to a CSV file\n",
        "save_expenses_to_csv('my_expenses.csv')"
      ],
      "execution_count": 30,
      "outputs": [
        {
          "output_type": "stream",
          "name": "stdout",
          "text": [
            "Expenses saved to my_expenses.csv\n"
          ]
        }
      ]
    },
    {
      "cell_type": "code",
      "metadata": {
        "colab": {
          "base_uri": "https://localhost:8080/"
        },
        "id": "fd43611f",
        "outputId": "95d4261f-813b-4705-96c3-997f9704607f"
      },
      "source": [
        "# Clear the current expenses list to simulate loading from scratch\n",
        "expenses.clear()\n",
        "print(\"Expenses list cleared.\")\n",
        "\n",
        "# Load the expenses from the CSV file\n",
        "load_expenses_from_csv('my_expenses.csv')"
      ],
      "execution_count": 31,
      "outputs": [
        {
          "output_type": "stream",
          "name": "stdout",
          "text": [
            "Expenses list cleared.\n",
            "Expenses loaded from my_expenses.csv\n"
          ]
        }
      ]
    },
    {
      "cell_type": "code",
      "metadata": {
        "id": "8bfef570"
      },
      "source": [
        "def get_monthly_budget():\n",
        "  \"\"\"Returns the user's monthly budget.\"\"\"\n",
        "  # For now, let's return a fixed value. You can modify this to allow user input or read from a configuration.\n",
        "  return 2000.00\n",
        "\n",
        "def calculate_total_expenses():\n",
        "  \"\"\"Calculates the total amount of all recorded expenses.\"\"\"\n",
        "  total = sum(expense['Amount'] for expense in expenses if 'Amount' in expense and isinstance(expense['Amount'], (int, float)))\n",
        "  return total"
      ],
      "execution_count": 33,
      "outputs": []
    },
    {
      "cell_type": "code",
      "metadata": {
        "colab": {
          "base_uri": "https://localhost:8080/"
        },
        "id": "2a48080d",
        "outputId": "fa5f1237-0cc3-4572-8683-4edb30942a40"
      },
      "source": [
        "# Display the loaded expenses to verify\n",
        "view_expenses()"
      ],
      "execution_count": 32,
      "outputs": [
        {
          "output_type": "stream",
          "name": "stdout",
          "text": [
            "--- Expenses ---\n",
            "Entry 1: Date: 2024-09-18, Category: food, Amount: 15.5, Description: lunch with friends\n",
            "----------------\n"
          ]
        }
      ]
    },
    {
      "cell_type": "code",
      "source": [],
      "metadata": {
        "id": "7OLOU2P70zBV"
      },
      "execution_count": null,
      "outputs": []
    }
  ]
}